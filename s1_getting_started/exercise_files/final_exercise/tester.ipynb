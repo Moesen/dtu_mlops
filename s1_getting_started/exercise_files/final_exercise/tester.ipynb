{
 "cells": [
  {
   "cell_type": "code",
   "execution_count": 2,
   "metadata": {},
   "outputs": [],
   "source": [
    "from importlib import reload\r\n",
    "import data"
   ]
  },
  {
   "cell_type": "code",
   "execution_count": null,
   "metadata": {},
   "outputs": [],
   "source": []
  }
 ],
 "metadata": {
  "interpreter": {
   "hash": "52531b7c34a461bb8c8c258b58c32fe19d4c38ebf26094d8d1da8dab1120c37f"
  },
  "kernelspec": {
   "display_name": "Python 3.8.12 64-bit ('mlopsd1': conda)",
   "name": "python3"
  },
  "language_info": {
   "name": "python",
   "version": ""
  },
  "orig_nbformat": 4
 },
 "nbformat": 4,
 "nbformat_minor": 2
}